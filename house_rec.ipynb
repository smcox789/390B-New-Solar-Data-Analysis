{
 "cells": [
  {
   "cell_type": "code",
   "execution_count": null,
   "metadata": {},
   "outputs": [],
   "source": [
    "# solar viability rating alg\n",
    "# median income by block -> can we make more granular? \n",
    "# research amt of solar energy (then the hours+roof space to produce it) needed to offset gas usage"
   ]
  }
 ],
 "metadata": {
  "language_info": {
   "name": "python"
  }
 },
 "nbformat": 4,
 "nbformat_minor": 2
}
