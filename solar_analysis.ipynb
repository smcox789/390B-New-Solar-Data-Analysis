{
 "cells": [
  {
   "cell_type": "markdown",
   "metadata": {},
   "source": [
    "# Solar Analysis"
   ]
  },
  {
   "cell_type": "markdown",
   "metadata": {},
   "source": [
    "### Import, read, display:"
   ]
  },
  {
   "cell_type": "code",
   "execution_count": 45,
   "metadata": {},
   "outputs": [],
   "source": [
    "# solar data\n",
    "# fill in 0s for sq_ft, hrs_available, since impt to see if solar viable option\n",
    "import pandas as pd\n",
    "import numpy as np\n",
    "import matplotlib.pyplot as plt\n",
    "import seaborn as sns\n",
    "import math\n"
   ]
  },
  {
   "cell_type": "code",
   "execution_count": 55,
   "metadata": {},
   "outputs": [],
   "source": [
    "solar_data = pd.read_csv('solar_data.csv')\n",
    "census_data = pd.read_csv('census_data.csv')\n",
    "gas_data = pd.read_csv('gas_meter_data.csv')\n",
    "total_gas_data = pd.read_csv('total_gas_data.csv')"
   ]
  },
  {
   "cell_type": "code",
   "execution_count": null,
   "metadata": {},
   "outputs": [
    {
     "name": "stdout",
     "output_type": "stream",
     "text": [
      "HEAD    house_id  device_id  gas_meter_id        lat       long  \\\n",
      "0  b1eb5eb2   83771758           NaN  42.191697 -72.613522   \n",
      "1  b1eb5eb2   69525019           NaN  42.191697 -72.613522   \n",
      "2  a90ea0b3    5827516    54363558.0  42.211167 -72.621543   \n",
      "3  049bf03c   83770216    54459969.0  42.211157 -72.621317   \n",
      "4  b2dc9fbe   56976532           NaN  42.210828 -72.621242   \n",
      "\n",
      "   hours_of_sunlight_per_year  sq_ft_available_for_solar_panels  \n",
      "0                        1404                              3207  \n",
      "1                           0                                 0  \n",
      "2                        1488                              1180  \n",
      "3                        1504                              1163  \n",
      "4                        1383                               846  \n"
     ]
    }
   ],
   "source": [
    "print('HEAD', solar_data.head())\n",
    "#other things"
   ]
  },
  {
   "cell_type": "code",
   "execution_count": null,
   "metadata": {},
   "outputs": [
    {
     "name": "stdout",
     "output_type": "stream",
     "text": [
      "<class 'pandas.core.frame.DataFrame'>\n",
      "RangeIndex: 17052 entries, 0 to 17051\n",
      "Data columns (total 7 columns):\n",
      " #   Column                            Non-Null Count  Dtype  \n",
      "---  ------                            --------------  -----  \n",
      " 0   house_id                          17052 non-null  object \n",
      " 1   device_id                         17052 non-null  int64  \n",
      " 2   gas_meter_id                      10162 non-null  float64\n",
      " 3   lat                               17052 non-null  float64\n",
      " 4   long                              17052 non-null  float64\n",
      " 5   hours_of_sunlight_per_year        17052 non-null  int64  \n",
      " 6   sq_ft_available_for_solar_panels  17052 non-null  int64  \n",
      "dtypes: float64(3), int64(3), object(1)\n",
      "memory usage: 932.7+ KB\n",
      "INFO None\n"
     ]
    }
   ],
   "source": [
    "print('INFO', solar_data.info())"
   ]
  },
  {
   "cell_type": "code",
   "execution_count": null,
   "metadata": {},
   "outputs": [
    {
     "name": "stdout",
     "output_type": "stream",
     "text": [
      "DESC           device_id  gas_meter_id           lat          long  \\\n",
      "count  1.705200e+04  1.016200e+04  17052.000000  17052.000000   \n",
      "mean   4.486838e+07  5.648602e+07     42.202733    -72.623131   \n",
      "std    4.449656e+07  1.977618e+07      0.069791      0.545868   \n",
      "min    5.819832e+06  2.029568e+07     40.771841    -73.501843   \n",
      "25%    2.039324e+07  4.626168e+07     42.194981    -72.635908   \n",
      "50%    3.105131e+07  4.976170e+07     42.203596    -72.624741   \n",
      "75%    5.676430e+07  5.635645e+07     42.210083    -72.615631   \n",
      "max    3.383795e+08  1.007938e+08     50.929574     -1.391057   \n",
      "\n",
      "       hours_of_sunlight_per_year  sq_ft_available_for_solar_panels  \n",
      "count                17052.000000                      17052.000000  \n",
      "mean                   730.968156                        885.132301  \n",
      "std                    685.065756                       3563.142914  \n",
      "min                      0.000000                          0.000000  \n",
      "25%                      0.000000                          0.000000  \n",
      "50%                   1166.000000                          0.000000  \n",
      "75%                   1399.000000                       1180.000000  \n",
      "max                   1593.000000                     179848.000000  \n"
     ]
    }
   ],
   "source": [
    "print('DESC', solar_data.describe())"
   ]
  },
  {
   "cell_type": "markdown",
   "metadata": {},
   "source": [
    "### KNN Imputation:"
   ]
  },
  {
   "cell_type": "markdown",
   "metadata": {},
   "source": [
    "#### 1. Data processing:"
   ]
  },
  {
   "cell_type": "code",
   "execution_count": 56,
   "metadata": {},
   "outputs": [
    {
     "name": "stdout",
     "output_type": "stream",
     "text": [
      "missing:\n",
      "house_id                               0\n",
      "lat                                    0\n",
      "long                                   0\n",
      "hours_of_sunlight_per_year          7910\n",
      "sq_ft_available_for_solar_panels    9124\n",
      "dtype: int64 \n",
      "\n",
      "not missing:\n",
      "house_id                            17052\n",
      "lat                                 17052\n",
      "long                                17052\n",
      "hours_of_sunlight_per_year           9142\n",
      "sq_ft_available_for_solar_panels     7928\n",
      "dtype: int64\n"
     ]
    }
   ],
   "source": [
    "# remove independent variable columns\n",
    "solar_knn = solar_data.drop(['device_id', 'gas_meter_id'], axis=1)\n",
    "\n",
    "# detect missing values\n",
    "print('missing:') \n",
    "print(solar_knn.eq(0).sum(), '\\n')\n",
    "\n",
    "#how many not missing\n",
    "print('not missing:') \n",
    "print(solar_knn.ne(0).sum())"
   ]
  },
  {
   "cell_type": "code",
   "execution_count": 91,
   "metadata": {},
   "outputs": [
    {
     "name": "stdout",
     "output_type": "stream",
     "text": [
      "Number of common house_ids: 5747\n"
     ]
    }
   ],
   "source": [
    "gas_house_ids = set(gas_data['house_id'])\n",
    "solar_house_ids = set(solar_data['house_id'])\n",
    "\n",
    "common_house_ids = gas_house_ids.intersection(solar_house_ids)\n",
    "print(f\"Number of common house_ids: {len(common_house_ids)}\")\n",
    "#should be able to do knn with gas usage on these houses, yay\n"
   ]
  },
  {
   "cell_type": "code",
   "execution_count": 92,
   "metadata": {},
   "outputs": [
    {
     "name": "stdout",
     "output_type": "stream",
     "text": [
      "12663\n"
     ]
    }
   ],
   "source": [
    "solar_knn = pd.merge(solar_data, total_gas_data, on='house_id', how='left')\n",
    "solar_knn.head()\n",
    "print(solar_knn['total_gas_usage'].isna().sum())  # Count how many NaNs"
   ]
  },
  {
   "cell_type": "code",
   "execution_count": 58,
   "metadata": {},
   "outputs": [],
   "source": [
    "blocks_and_house_ids = census_data[['Block', 'house_ids']]\n",
    "solar_house_ids = solar_data['house_id']\n",
    "\n",
    "house_id_to_block = {}\n",
    "for solar_row in range(len(solar_data.index)):\n",
    "    for census_row in range(len(census_data.index)):\n",
    "        house_ids_as_list = blocks_and_house_ids['house_ids'].loc[census_row]\n",
    "        solar_house_id = solar_house_ids.loc[solar_row]\n",
    "        if solar_house_id in house_ids_as_list:\n",
    "            house_id_to_block[solar_house_id] = blocks_and_house_ids['Block'].loc[census_row]\n",
    "\n",
    "solar_knn['Block'] = solar_knn['house_id'].map(house_id_to_block)\n"
   ]
  },
  {
   "cell_type": "code",
   "execution_count": 59,
   "metadata": {},
   "outputs": [
    {
     "name": "stdout",
     "output_type": "stream",
     "text": [
      "missing:\n",
      "house_id                               0\n",
      "device_id                              0\n",
      "gas_meter_id                           0\n",
      "lat                                    0\n",
      "long                                   0\n",
      "hours_of_sunlight_per_year          7910\n",
      "sq_ft_available_for_solar_panels    9124\n",
      "total_gas_usage                        0\n",
      "Block                                  0\n",
      "dtype: int64 \n",
      "\n",
      "not missing:\n",
      "house_id                            17052\n",
      "device_id                           17052\n",
      "gas_meter_id                        17052\n",
      "lat                                 17052\n",
      "long                                17052\n",
      "hours_of_sunlight_per_year           9142\n",
      "sq_ft_available_for_solar_panels     7928\n",
      "total_gas_usage                     17052\n",
      "Block                               17052\n",
      "dtype: int64\n"
     ]
    }
   ],
   "source": [
    "# detect missing values\n",
    "print('missing:') \n",
    "print(solar_knn.eq(0).sum(), '\\n')\n",
    "\n",
    "#how many not missing\n",
    "print('not missing:') \n",
    "print(solar_knn.ne(0).sum())"
   ]
  },
  {
   "cell_type": "code",
   "execution_count": 93,
   "metadata": {},
   "outputs": [],
   "source": [
    "#remove duplicate house_ids\n",
    "solar_data = solar_data.drop_duplicates(subset='house_id')\n",
    "total_gas_data = total_gas_data.drop_duplicates(subset='house_id')\n",
    "\n",
    "#standardize\n",
    "solar_data['house_id'] = solar_data['house_id'].str.strip().str.lower()\n",
    "total_gas_data['house_id'] = total_gas_data['house_id'].str.strip().str.lower()"
   ]
  },
  {
   "cell_type": "code",
   "execution_count": 94,
   "metadata": {},
   "outputs": [
    {
     "data": {
      "text/html": [
       "<div>\n",
       "<style scoped>\n",
       "    .dataframe tbody tr th:only-of-type {\n",
       "        vertical-align: middle;\n",
       "    }\n",
       "\n",
       "    .dataframe tbody tr th {\n",
       "        vertical-align: top;\n",
       "    }\n",
       "\n",
       "    .dataframe thead th {\n",
       "        text-align: right;\n",
       "    }\n",
       "</style>\n",
       "<table border=\"1\" class=\"dataframe\">\n",
       "  <thead>\n",
       "    <tr style=\"text-align: right;\">\n",
       "      <th></th>\n",
       "      <th>house_id</th>\n",
       "      <th>device_id</th>\n",
       "      <th>gas_meter_id</th>\n",
       "      <th>lat</th>\n",
       "      <th>long</th>\n",
       "      <th>hours_of_sunlight_per_year</th>\n",
       "      <th>sq_ft_available_for_solar_panels</th>\n",
       "      <th>total_gas_usage</th>\n",
       "    </tr>\n",
       "  </thead>\n",
       "  <tbody>\n",
       "    <tr>\n",
       "      <th>0</th>\n",
       "      <td>b1eb5eb2</td>\n",
       "      <td>83771758</td>\n",
       "      <td>NaN</td>\n",
       "      <td>42.191697</td>\n",
       "      <td>-72.613522</td>\n",
       "      <td>1404</td>\n",
       "      <td>3207</td>\n",
       "      <td>NaN</td>\n",
       "    </tr>\n",
       "    <tr>\n",
       "      <th>1</th>\n",
       "      <td>a90ea0b3</td>\n",
       "      <td>5827516</td>\n",
       "      <td>54363558.0</td>\n",
       "      <td>42.211167</td>\n",
       "      <td>-72.621543</td>\n",
       "      <td>1488</td>\n",
       "      <td>1180</td>\n",
       "      <td>NaN</td>\n",
       "    </tr>\n",
       "    <tr>\n",
       "      <th>2</th>\n",
       "      <td>049bf03c</td>\n",
       "      <td>83770216</td>\n",
       "      <td>54459969.0</td>\n",
       "      <td>42.211157</td>\n",
       "      <td>-72.621317</td>\n",
       "      <td>1504</td>\n",
       "      <td>1163</td>\n",
       "      <td>NaN</td>\n",
       "    </tr>\n",
       "    <tr>\n",
       "      <th>3</th>\n",
       "      <td>b2dc9fbe</td>\n",
       "      <td>56976532</td>\n",
       "      <td>NaN</td>\n",
       "      <td>42.210828</td>\n",
       "      <td>-72.621242</td>\n",
       "      <td>1383</td>\n",
       "      <td>846</td>\n",
       "      <td>NaN</td>\n",
       "    </tr>\n",
       "    <tr>\n",
       "      <th>4</th>\n",
       "      <td>569aaf4b</td>\n",
       "      <td>56506585</td>\n",
       "      <td>40488619.0</td>\n",
       "      <td>42.210727</td>\n",
       "      <td>-72.621080</td>\n",
       "      <td>1337</td>\n",
       "      <td>440</td>\n",
       "      <td>21377.52</td>\n",
       "    </tr>\n",
       "  </tbody>\n",
       "</table>\n",
       "</div>"
      ],
      "text/plain": [
       "   house_id  device_id  gas_meter_id        lat       long  \\\n",
       "0  b1eb5eb2   83771758           NaN  42.191697 -72.613522   \n",
       "1  a90ea0b3    5827516    54363558.0  42.211167 -72.621543   \n",
       "2  049bf03c   83770216    54459969.0  42.211157 -72.621317   \n",
       "3  b2dc9fbe   56976532           NaN  42.210828 -72.621242   \n",
       "4  569aaf4b   56506585    40488619.0  42.210727 -72.621080   \n",
       "\n",
       "   hours_of_sunlight_per_year  sq_ft_available_for_solar_panels  \\\n",
       "0                        1404                              3207   \n",
       "1                        1488                              1180   \n",
       "2                        1504                              1163   \n",
       "3                        1383                               846   \n",
       "4                        1337                               440   \n",
       "\n",
       "   total_gas_usage  \n",
       "0              NaN  \n",
       "1              NaN  \n",
       "2              NaN  \n",
       "3              NaN  \n",
       "4         21377.52  "
      ]
     },
     "execution_count": 94,
     "metadata": {},
     "output_type": "execute_result"
    }
   ],
   "source": [
    "solar_gas_data = pd.merge(solar_data, total_gas_data, on='house_id', how='left')\n"
   ]
  },
  {
   "cell_type": "code",
   "execution_count": 96,
   "metadata": {},
   "outputs": [
    {
     "name": "stdout",
     "output_type": "stream",
     "text": [
      "4352\n"
     ]
    }
   ],
   "source": [
    "solar_gas_data = solar_gas_data[solar_gas_data['total_gas_usage'].notna() & (solar_gas_data['total_gas_usage'] != 0)]\n",
    "print(len(solar_gas_data))"
   ]
  },
  {
   "cell_type": "code",
   "execution_count": 83,
   "metadata": {},
   "outputs": [
    {
     "name": "stdout",
     "output_type": "stream",
     "text": [
      "9124\n"
     ]
    }
   ],
   "source": [
    "# only want to do knn on houses we care about (those that use gas) to save time\n",
    "# find gas houses w/ at least 1 missing value\n",
    "\n",
    "knn_houses = solar_knn[(solar_knn['hours_of_sunlight_per_year'] == 0) |(solar_knn['sq_ft_available_for_solar_panels'] == 0)]\n",
    "print(len(knn_houses))"
   ]
  },
  {
   "cell_type": "code",
   "execution_count": 85,
   "metadata": {},
   "outputs": [
    {
     "name": "stdout",
     "output_type": "stream",
     "text": [
      "    house_id     Block  total_gas_usage  hours_of_sunlight_per_year  \\\n",
      "1   b1eb5eb2  812103-1              NaN                           0   \n",
      "6   ac2f7c77  812001-3              NaN                        1359   \n",
      "7   c9a15592  811900-1              NaN                        1205   \n",
      "9   ae254799  811900-1              NaN                        1205   \n",
      "10  1ad80ffe  811900-1              NaN                        1205   \n",
      "\n",
      "    sq_ft_available_for_solar_panels  \n",
      "1                                  0  \n",
      "6                                  0  \n",
      "7                                  0  \n",
      "9                                  0  \n",
      "10                                 0  \n"
     ]
    }
   ],
   "source": [
    "final_knn_df = knn_houses[['house_id', 'Block', 'total_gas_usage', 'hours_of_sunlight_per_year', 'sq_ft_available_for_solar_panels']]\n",
    "\n",
    "print(final_knn_df.head())"
   ]
  },
  {
   "cell_type": "code",
   "execution_count": 68,
   "metadata": {},
   "outputs": [],
   "source": [
    "# proceeding with KNN, total gas usage as numeric variable and block as categorical\n",
    "\n",
    "#one-hot encoding for block\n",
    "final_knn_df = pd.get_dummies(final_knn_df, columns=['Block'], prefix='Block')"
   ]
  },
  {
   "cell_type": "code",
   "execution_count": 69,
   "metadata": {},
   "outputs": [],
   "source": [
    "from sklearn.preprocessing import MinMaxScaler\n",
    "\n",
    "scaler = MinMaxScaler()\n",
    "final_knn_df['total_gas_usage'] = scaler.fit_transform(final_knn_df[['total_gas_usage']])\n"
   ]
  },
  {
   "cell_type": "code",
   "execution_count": 76,
   "metadata": {},
   "outputs": [
    {
     "name": "stdout",
     "output_type": "stream",
     "text": [
      "37\n"
     ]
    }
   ],
   "source": [
    "print(len(final_knn_df))\n",
    "\n"
   ]
  },
  {
   "cell_type": "code",
   "execution_count": 71,
   "metadata": {},
   "outputs": [
    {
     "name": "stdout",
     "output_type": "stream",
     "text": [
      "total_gas_usage                     0\n",
      "Block_811400-1                      0\n",
      "Block_811400-2                      0\n",
      "Block_811500-1                      0\n",
      "Block_811500-2                      0\n",
      "Block_811600-1                      0\n",
      "Block_811600-2                      0\n",
      "Block_811600-3                      0\n",
      "Block_811800-3                      0\n",
      "Block_811800-5                      0\n",
      "Block_811900-2                      0\n",
      "Block_811900-3                      0\n",
      "Block_812002-1                      0\n",
      "Block_812002-4                      0\n",
      "Block_812101-1                      0\n",
      "Block_812101-2                      0\n",
      "Block_812101-3                      0\n",
      "Block_812103-1                      0\n",
      "Block_812103-2                      0\n",
      "Block_812104-3                      0\n",
      "Block_812104-4                      0\n",
      "Block_822500-4                      0\n",
      "hours_of_sunlight_per_year          0\n",
      "sq_ft_available_for_solar_panels    0\n",
      "dtype: int64\n"
     ]
    }
   ],
   "source": [
    "from sklearn.impute import KNNImputer\n",
    "\n",
    "imputer = KNNImputer(n_neighbors=5, weights='distance')\n",
    "\n",
    "columns_for_imputation = ['total_gas_usage'] + [col for col in final_knn_df.columns if 'Block' in col] + ['hours_of_sunlight_per_year', 'sq_ft_available_for_solar_panels']\n",
    "final_knn_df_imputed = imputer.fit_transform(final_knn_df[columns_for_imputation])\n",
    "\n",
    "final_knn = pd.DataFrame(final_knn_df_imputed, columns=columns_for_imputation)\n"
   ]
  },
  {
   "cell_type": "code",
   "execution_count": 75,
   "metadata": {},
   "outputs": [
    {
     "name": "stdout",
     "output_type": "stream",
     "text": [
      "37\n"
     ]
    }
   ],
   "source": [
    "print(len(final_knn))"
   ]
  }
 ],
 "metadata": {
  "kernelspec": {
   "display_name": "Python 3",
   "language": "python",
   "name": "python3"
  },
  "language_info": {
   "codemirror_mode": {
    "name": "ipython",
    "version": 3
   },
   "file_extension": ".py",
   "mimetype": "text/x-python",
   "name": "python",
   "nbconvert_exporter": "python",
   "pygments_lexer": "ipython3",
   "version": "3.12.2"
  }
 },
 "nbformat": 4,
 "nbformat_minor": 2
}
