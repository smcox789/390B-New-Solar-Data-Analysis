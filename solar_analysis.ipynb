{
 "cells": [
  {
   "cell_type": "markdown",
   "metadata": {},
   "source": [
    "# Solar Analysis"
   ]
  },
  {
   "cell_type": "markdown",
   "metadata": {},
   "source": [
    "### Import, read, display:"
   ]
  },
  {
   "cell_type": "code",
   "execution_count": 57,
   "metadata": {},
   "outputs": [],
   "source": [
    "# solar data\n",
    "# fill in 0s for sq_ft, hrs_available, since impt to see if solar viable option\n",
    "import pandas as pd\n",
    "import numpy as np\n",
    "import matplotlib.pyplot as plt\n",
    "import seaborn as sns\n",
    "import math\n"
   ]
  },
  {
   "cell_type": "code",
   "execution_count": 58,
   "metadata": {},
   "outputs": [],
   "source": [
    "solar_data = pd.read_csv('solar_data.csv')\n",
    "census_data = pd.read_csv('census_data.csv')\n",
    "gas_data = pd.read_csv('gas_meter_data.csv')\n",
    "total_gas_data = pd.read_csv('total_gas_data.csv')\n",
    "total_meter_data = pd.read_csv('total_meter_data.csv')"
   ]
  },
  {
   "cell_type": "code",
   "execution_count": 59,
   "metadata": {},
   "outputs": [
    {
     "name": "stdout",
     "output_type": "stream",
     "text": [
      "HEAD    house_id  device_id  gas_meter_id        lat       long  \\\n",
      "0  b1eb5eb2   83771758           NaN  42.191697 -72.613522   \n",
      "1  b1eb5eb2   69525019           NaN  42.191697 -72.613522   \n",
      "2  a90ea0b3    5827516    54363558.0  42.211167 -72.621543   \n",
      "3  049bf03c   83770216    54459969.0  42.211157 -72.621317   \n",
      "4  b2dc9fbe   56976532           NaN  42.210828 -72.621242   \n",
      "\n",
      "   hours_of_sunlight_per_year  sq_ft_available_for_solar_panels  \n",
      "0                        1404                              3207  \n",
      "1                           0                                 0  \n",
      "2                        1488                              1180  \n",
      "3                        1504                              1163  \n",
      "4                        1383                               846  \n"
     ]
    }
   ],
   "source": [
    "print('HEAD', solar_data.head())\n",
    "#other things"
   ]
  },
  {
   "cell_type": "code",
   "execution_count": 60,
   "metadata": {},
   "outputs": [
    {
     "name": "stdout",
     "output_type": "stream",
     "text": [
      "<class 'pandas.core.frame.DataFrame'>\n",
      "RangeIndex: 17052 entries, 0 to 17051\n",
      "Data columns (total 7 columns):\n",
      " #   Column                            Non-Null Count  Dtype  \n",
      "---  ------                            --------------  -----  \n",
      " 0   house_id                          17052 non-null  object \n",
      " 1   device_id                         17052 non-null  int64  \n",
      " 2   gas_meter_id                      10162 non-null  float64\n",
      " 3   lat                               17052 non-null  float64\n",
      " 4   long                              17052 non-null  float64\n",
      " 5   hours_of_sunlight_per_year        17052 non-null  int64  \n",
      " 6   sq_ft_available_for_solar_panels  17052 non-null  int64  \n",
      "dtypes: float64(3), int64(3), object(1)\n",
      "memory usage: 932.7+ KB\n",
      "INFO None\n"
     ]
    }
   ],
   "source": [
    "print('INFO', solar_data.info())"
   ]
  },
  {
   "cell_type": "code",
   "execution_count": 61,
   "metadata": {},
   "outputs": [
    {
     "name": "stdout",
     "output_type": "stream",
     "text": [
      "DESC           device_id  gas_meter_id           lat          long  \\\n",
      "count  1.705200e+04  1.016200e+04  17052.000000  17052.000000   \n",
      "mean   4.486838e+07  5.648602e+07     42.202733    -72.623131   \n",
      "std    4.449656e+07  1.977618e+07      0.069791      0.545868   \n",
      "min    5.819832e+06  2.029568e+07     40.771841    -73.501843   \n",
      "25%    2.039324e+07  4.626168e+07     42.194981    -72.635908   \n",
      "50%    3.105131e+07  4.976170e+07     42.203596    -72.624741   \n",
      "75%    5.676430e+07  5.635645e+07     42.210083    -72.615631   \n",
      "max    3.383795e+08  1.007938e+08     50.929574     -1.391057   \n",
      "\n",
      "       hours_of_sunlight_per_year  sq_ft_available_for_solar_panels  \n",
      "count                17052.000000                      17052.000000  \n",
      "mean                   730.968156                        885.132301  \n",
      "std                    685.065756                       3563.142914  \n",
      "min                      0.000000                          0.000000  \n",
      "25%                      0.000000                          0.000000  \n",
      "50%                   1166.000000                          0.000000  \n",
      "75%                   1399.000000                       1180.000000  \n",
      "max                   1593.000000                     179848.000000  \n"
     ]
    }
   ],
   "source": [
    "print('DESC', solar_data.describe())"
   ]
  },
  {
   "cell_type": "markdown",
   "metadata": {},
   "source": [
    "#### 1. Data processing:"
   ]
  },
  {
   "cell_type": "code",
   "execution_count": 62,
   "metadata": {},
   "outputs": [
    {
     "name": "stdout",
     "output_type": "stream",
     "text": [
      "house_id                               0\n",
      "device_id                              0\n",
      "gas_meter_id                        6890\n",
      "lat                                    0\n",
      "long                                   0\n",
      "hours_of_sunlight_per_year             0\n",
      "sq_ft_available_for_solar_panels       0\n",
      "dtype: int64 \n",
      "\n"
     ]
    }
   ],
   "source": [
    "print(solar_data.isna().sum(), '\\n')"
   ]
  },
  {
   "cell_type": "code",
   "execution_count": 63,
   "metadata": {},
   "outputs": [
    {
     "name": "stdout",
     "output_type": "stream",
     "text": [
      "missing:\n",
      "house_id                               0\n",
      "lat                                    0\n",
      "long                                   0\n",
      "hours_of_sunlight_per_year          7910\n",
      "sq_ft_available_for_solar_panels    9124\n",
      "dtype: int64 \n",
      "\n",
      "not missing:\n",
      "house_id                            17052\n",
      "lat                                 17052\n",
      "long                                17052\n",
      "hours_of_sunlight_per_year           9142\n",
      "sq_ft_available_for_solar_panels     7928\n",
      "dtype: int64\n"
     ]
    }
   ],
   "source": [
    "# find solar houses with all info\n",
    "# remove independent variable columns\n",
    "solar_filtered = solar_data.drop(['device_id', 'gas_meter_id'], axis=1)\n",
    "\n",
    "# detect missing values, want to fill these\n",
    "print('missing:') \n",
    "print(solar_filtered.eq(0).sum(), '\\n')\n",
    "\n",
    "#how many not missing\n",
    "print('not missing:') \n",
    "print(solar_filtered.ne(0).sum())"
   ]
  },
  {
   "cell_type": "code",
   "execution_count": 64,
   "metadata": {},
   "outputs": [
    {
     "name": "stdout",
     "output_type": "stream",
     "text": [
      "Solar houses: 16754\n",
      "Gas houses: 5747\n",
      "Number of common house_ids in solar_data and gas_data: 5747\n"
     ]
    }
   ],
   "source": [
    "gas_house_ids = set(gas_data['house_id'])\n",
    "solar_house_ids = set(solar_data['house_id'])\n",
    "\n",
    "common_house_ids = gas_house_ids.intersection(solar_house_ids)\n",
    "\n",
    "print(f\"Solar houses: {len(solar_house_ids)}\")\n",
    "print(f\"Gas houses: {len(gas_house_ids)}\")\n",
    "print(f\"Number of common house_ids in solar_data and gas_data: {len(common_house_ids)}\")\n"
   ]
  },
  {
   "cell_type": "code",
   "execution_count": 10,
   "metadata": {},
   "outputs": [
    {
     "name": "stdout",
     "output_type": "stream",
     "text": [
      "Number of common house_ids meter+solar: 5748\n",
      "Number of common house_ids meter+gas: 5748\n"
     ]
    }
   ],
   "source": [
    "meter_house_ids = set(total_meter_data['house_id'])\n",
    "\n",
    "common_house_ids2 = meter_house_ids.intersection(solar_house_ids)\n",
    "common_house_ids3 = meter_house_ids.intersection(solar_house_ids)\n",
    "\n",
    "print(f\"common house_ids meter+solar: {len(common_house_ids2)}\")\n",
    "\n",
    "print(f\"common house_ids meter+gas: {len(common_house_ids3)}\")"
   ]
  },
  {
   "cell_type": "code",
   "execution_count": 11,
   "metadata": {},
   "outputs": [
    {
     "name": "stdout",
     "output_type": "stream",
     "text": [
      "Intersection bw gas house IDs and total gas houses: 4352\n",
      "Intersection bw solar house IDs and total gas houses: 4352\n",
      "True\n"
     ]
    }
   ],
   "source": [
    "total_gas_house_ids = set(total_gas_data['house_id'])\n",
    "inter1 = gas_house_ids.intersection(total_gas_house_ids)\n",
    "#around 1000 houses w gas house ids dont have total gas readings\n",
    "print(f\"Intersection bw gas house IDs and total gas houses: {len(inter1)}\")\n",
    "\n",
    "inter2 = solar_house_ids.intersection(total_gas_house_ids)\n",
    "print(f\"Intersection bw solar house IDs and total gas houses: {len(inter2)}\")\n",
    "print(inter1 == inter2)"
   ]
  },
  {
   "cell_type": "code",
   "execution_count": 13,
   "metadata": {},
   "outputs": [],
   "source": [
    "solar_filtered = solar_data[solar_data['house_id'].isin(inter1)]"
   ]
  },
  {
   "cell_type": "code",
   "execution_count": 14,
   "metadata": {},
   "outputs": [
    {
     "name": "stdout",
     "output_type": "stream",
     "text": [
      "4389\n"
     ]
    }
   ],
   "source": [
    "print(len(solar_filtered))"
   ]
  },
  {
   "cell_type": "code",
   "execution_count": 27,
   "metadata": {},
   "outputs": [
    {
     "name": "stdout",
     "output_type": "stream",
     "text": [
      "4352\n",
      "4352\n"
     ]
    }
   ],
   "source": [
    "print(solar_filtered['house_id'].nunique())\n",
    "# remove duplicates\n",
    "solar_filtered = solar_filtered.drop_duplicates(subset=[\"house_id\"])\n",
    "print(len(solar_filtered))"
   ]
  },
  {
   "cell_type": "code",
   "execution_count": 65,
   "metadata": {},
   "outputs": [],
   "source": [
    "blocks_and_house_ids = census_data[['Block','house_ids']]\n",
    "solar_house_ids = solar_data['house_id']\n",
    "house_id_to_block = {}\n",
    "\n",
    "for solar_row in range(len (solar_data. index)) :\n",
    "    for census_row in range (len (census_data.index)) :\n",
    "        house_ids_as_list = blocks_and_house_ids ['house_ids']. loc[census_row]\n",
    "        solar_house_id = solar_house_ids.loc [solar_row]\n",
    "        if solar_house_id in house_ids_as_list:\n",
    "            house_id_to_block.update({solar_house_id:blocks_and_house_ids ['Block'].loc[census_row]})\n",
    "\n",
    "solar_data['Block'] = solar_data['house_id'].map(house_id_to_block)\n"
   ]
  },
  {
   "cell_type": "code",
   "execution_count": 66,
   "metadata": {},
   "outputs": [
    {
     "name": "stdout",
     "output_type": "stream",
     "text": [
      "   house_id  device_id  gas_meter_id        lat       long  \\\n",
      "0  b1eb5eb2   83771758           NaN  42.191697 -72.613522   \n",
      "1  b1eb5eb2   69525019           NaN  42.191697 -72.613522   \n",
      "2  a90ea0b3    5827516    54363558.0  42.211167 -72.621543   \n",
      "3  049bf03c   83770216    54459969.0  42.211157 -72.621317   \n",
      "4  b2dc9fbe   56976532           NaN  42.210828 -72.621242   \n",
      "\n",
      "   hours_of_sunlight_per_year  sq_ft_available_for_solar_panels     Block  \n",
      "0                        1404                              3207  812103-1  \n",
      "1                           0                                 0  812103-1  \n",
      "2                        1488                              1180  811800-3  \n",
      "3                        1504                              1163  811800-3  \n",
      "4                        1383                               846  812001-3  \n"
     ]
    }
   ],
   "source": [
    "print(solar_data.head())"
   ]
  },
  {
   "cell_type": "code",
   "execution_count": 17,
   "metadata": {},
   "outputs": [
    {
     "name": "stdout",
     "output_type": "stream",
     "text": [
      "missing:\n",
      "house_id                            0\n",
      "device_id                           0\n",
      "gas_meter_id                        0\n",
      "lat                                 0\n",
      "long                                0\n",
      "hours_of_sunlight_per_year          0\n",
      "sq_ft_available_for_solar_panels    0\n",
      "Block                               0\n",
      "dtype: int64 \n",
      "\n",
      "house_id                            0\n",
      "device_id                           0\n",
      "gas_meter_id                        0\n",
      "lat                                 0\n",
      "long                                0\n",
      "hours_of_sunlight_per_year          0\n",
      "sq_ft_available_for_solar_panels    0\n",
      "Block                               0\n",
      "dtype: int64 \n",
      "\n"
     ]
    }
   ],
   "source": [
    "print('missing:') \n",
    "print(solar_filtered.eq(0).sum(), '\\n')\n",
    "print(solar_filtered.isna().sum(), '\\n')\n",
    "\n",
    "#none of the houses with total gas readings are missing values lol"
   ]
  },
  {
   "cell_type": "code",
   "execution_count": 15,
   "metadata": {},
   "outputs": [],
   "source": [
    "solar_filtered.to_csv('solar_filtered.csv', index=False)"
   ]
  },
  {
   "cell_type": "code",
   "execution_count": 69,
   "metadata": {},
   "outputs": [
    {
     "name": "stdout",
     "output_type": "stream",
     "text": [
      "   house_id        lat       long  hours_of_sunlight_per_year  \\\n",
      "0  b1eb5eb2  42.191697 -72.613522                        1404   \n",
      "1  b1eb5eb2  42.191697 -72.613522                           0   \n",
      "2  a90ea0b3  42.211167 -72.621543                        1488   \n",
      "3  049bf03c  42.211157 -72.621317                        1504   \n",
      "4  b2dc9fbe  42.210828 -72.621242                        1383   \n",
      "\n",
      "   sq_ft_available_for_solar_panels     Block  \n",
      "0                              3207  812103-1  \n",
      "1                                 0  812103-1  \n",
      "2                              1180  811800-3  \n",
      "3                              1163  811800-3  \n",
      "4                               846  812001-3  \n"
     ]
    }
   ],
   "source": [
    "solar_copy = solar_data.copy().drop(['device_id', 'gas_meter_id'], axis=1)\n",
    "print(solar_copy.head())"
   ]
  },
  {
   "cell_type": "code",
   "execution_count": 70,
   "metadata": {},
   "outputs": [
    {
     "name": "stdout",
     "output_type": "stream",
     "text": [
      "gas: 4352\n",
      "meter: 5748\n"
     ]
    }
   ],
   "source": [
    "# format house_id the same\n",
    "dfs = [solar_copy, total_gas_data, total_meter_data]\n",
    "\n",
    "# Standardizing 'house_id'\n",
    "for df in dfs:\n",
    "    df['house_id'] = df['house_id'].astype(str).str.strip().str.lower()\n",
    "\n",
    "solar_copy = solar_copy.drop_duplicates(subset='house_id')\n",
    "total_gas_data = total_gas_data.drop_duplicates(subset='house_id')\n",
    "total_meter_data = total_meter_data.drop_duplicates(subset='house_id')\n",
    "print(f\"gas: {len(total_gas_data)}\")\n",
    "print(f\"meter: {len(total_meter_data)}\")"
   ]
  },
  {
   "cell_type": "code",
   "execution_count": 72,
   "metadata": {},
   "outputs": [
    {
     "name": "stdout",
     "output_type": "stream",
     "text": [
      "   house_id        lat       long  hours_of_sunlight_per_year  \\\n",
      "0  b1eb5eb2  42.191697 -72.613522                        1404   \n",
      "2  a90ea0b3  42.211167 -72.621543                        1488   \n",
      "3  049bf03c  42.211157 -72.621317                        1504   \n",
      "4  b2dc9fbe  42.210828 -72.621242                        1383   \n",
      "5  569aaf4b  42.210727 -72.621080                        1337   \n",
      "\n",
      "   sq_ft_available_for_solar_panels     Block energy_type  \n",
      "0                              3207  812103-1        None  \n",
      "2                              1180  811800-3       Meter  \n",
      "3                              1163  811800-3       Meter  \n",
      "4                               846  812001-3        None  \n",
      "5                               440  812001-3        Both  \n"
     ]
    }
   ],
   "source": [
    "solar_copy = solar_copy.copy()\n",
    "#categorize energy data availability\n",
    "solar_copy['energy_type'] = 'None'\n",
    "\n",
    "solar_copy.loc[solar_copy['house_id'].isin(total_gas_data['house_id']), 'energy_type'] = 'Gas'\n",
    "\n",
    "solar_copy.loc[solar_copy['house_id'].isin(total_meter_data['house_id']), 'energy_type'] = 'Meter'\n",
    "\n",
    "solar_copy.loc[solar_copy['house_id'].isin(total_gas_data['house_id']) & solar_copy['house_id'].isin(total_meter_data['house_id']), 'energy_type'] = 'Both'\n",
    "\n",
    "print(solar_copy.head())"
   ]
  },
  {
   "cell_type": "code",
   "execution_count": 97,
   "metadata": {},
   "outputs": [
    {
     "name": "stdout",
     "output_type": "stream",
     "text": [
      "house_id                                          0\n",
      "lat                                               0\n",
      "long                                              0\n",
      "hours_of_sunlight_per_year                        0\n",
      "sq_ft_available_for_solar_panels                  0\n",
      "Block                                             0\n",
      "energy_type                                       0\n",
      "total_gas_usage                               12396\n",
      "total_usage                                   11748\n",
      "sq_ft_available_for_solar_panels_block_avg        0\n",
      "hours_of_sunlight_per_year_block_avg              0\n",
      "total_energy_usage                            11748\n",
      "geo_cluster                                       0\n",
      "dtype: int64 \n",
      "\n"
     ]
    },
    {
     "name": "stderr",
     "output_type": "stream",
     "text": [
      "/var/folders/y9/nl6wrx1x5wz2_yp2gftwcpmr0000gn/T/ipykernel_29822/3665488565.py:2: FutureWarning: A value is trying to be set on a copy of a DataFrame or Series through chained assignment using an inplace method.\n",
      "The behavior will change in pandas 3.0. This inplace method will never work because the intermediate object on which we are setting values always behaves as a copy.\n",
      "\n",
      "For example, when doing 'df[col].method(value, inplace=True)', try using 'df.method({col: value}, inplace=True)' or df[col] = df[col].method(value) instead, to perform the operation inplace on the original object.\n",
      "\n",
      "\n",
      "  solar_copy['sq_ft_available_for_solar_panels'].replace(0, np.nan, inplace=True)\n",
      "/var/folders/y9/nl6wrx1x5wz2_yp2gftwcpmr0000gn/T/ipykernel_29822/3665488565.py:3: FutureWarning: A value is trying to be set on a copy of a DataFrame or Series through chained assignment using an inplace method.\n",
      "The behavior will change in pandas 3.0. This inplace method will never work because the intermediate object on which we are setting values always behaves as a copy.\n",
      "\n",
      "For example, when doing 'df[col].method(value, inplace=True)', try using 'df.method({col: value}, inplace=True)' or df[col] = df[col].method(value) instead, to perform the operation inplace on the original object.\n",
      "\n",
      "\n",
      "  solar_copy['hours_of_sunlight_per_year'].replace(0, np.nan, inplace=True)\n"
     ]
    }
   ],
   "source": [
    "# change 0s to NaNs for knn imputation\n",
    "solar_copy['sq_ft_available_for_solar_panels'].replace(0, np.nan, inplace=True)\n",
    "solar_copy['hours_of_sunlight_per_year'].replace(0, np.nan, inplace=True)\n",
    "\n",
    "print(solar_copy.isna().sum(), '\\n')\n",
    "\n",
    "# # Calculate total energy where both readings are available\n",
    "# solar_data['total_energy_usage'] = solar_data['total_gas_usage'].fillna(0) + solar_data['total_meter_usage'].fillna(0)\n",
    "# solar_data['total_energy_usage'].replace(0, np.nan, inplace=True)\n",
    "\n",
    "# # Check the data\n",
    "# print(solar_data.head())"
   ]
  },
  {
   "cell_type": "code",
   "execution_count": 74,
   "metadata": {},
   "outputs": [
    {
     "name": "stdout",
     "output_type": "stream",
     "text": [
      "house_id                               0\n",
      "lat                                    0\n",
      "long                                   0\n",
      "hours_of_sunlight_per_year          7611\n",
      "sq_ft_available_for_solar_panels    8825\n",
      "Block                                  0\n",
      "energy_type                            0\n",
      "dtype: int64\n"
     ]
    }
   ],
   "source": [
    "solar_copy.dropna(subset=['Block'], inplace=True)\n",
    "\n",
    "print(solar_copy.isna().sum())"
   ]
  },
  {
   "cell_type": "code",
   "execution_count": 75,
   "metadata": {},
   "outputs": [
    {
     "name": "stdout",
     "output_type": "stream",
     "text": [
      "   house_id        lat       long  hours_of_sunlight_per_year  \\\n",
      "0  b1eb5eb2  42.191697 -72.613522                      1404.0   \n",
      "1  a90ea0b3  42.211167 -72.621543                      1488.0   \n",
      "2  049bf03c  42.211157 -72.621317                      1504.0   \n",
      "3  b2dc9fbe  42.210828 -72.621242                      1383.0   \n",
      "4  569aaf4b  42.210727 -72.621080                      1337.0   \n",
      "\n",
      "   sq_ft_available_for_solar_panels     Block energy_type  total_gas_usage  \\\n",
      "0                            3207.0  812103-1        None              NaN   \n",
      "1                            1180.0  811800-3       Meter              NaN   \n",
      "2                            1163.0  811800-3       Meter              NaN   \n",
      "3                             846.0  812001-3        None              NaN   \n",
      "4                             440.0  812001-3        Both         21377.52   \n",
      "\n",
      "   total_usage  \n",
      "0          NaN  \n",
      "1       159.84  \n",
      "2         0.00  \n",
      "3          NaN  \n",
      "4       445.56  \n"
     ]
    }
   ],
   "source": [
    "solar_copy = solar_copy.merge(total_gas_data, on='house_id', how='left')\n",
    "\n",
    "solar_copy = solar_copy.merge(total_meter_data, on='house_id', how='left', suffixes=('_gas', '_meter'))\n",
    "\n",
    "print(solar_copy.head())"
   ]
  },
  {
   "cell_type": "code",
   "execution_count": 76,
   "metadata": {},
   "outputs": [
    {
     "name": "stdout",
     "output_type": "stream",
     "text": [
      "   house_id        lat       long  hours_of_sunlight_per_year  \\\n",
      "0  b1eb5eb2  42.191697 -72.613522                      1404.0   \n",
      "1  a90ea0b3  42.211167 -72.621543                      1488.0   \n",
      "2  049bf03c  42.211157 -72.621317                      1504.0   \n",
      "3  b2dc9fbe  42.210828 -72.621242                      1383.0   \n",
      "4  569aaf4b  42.210727 -72.621080                      1337.0   \n",
      "\n",
      "   sq_ft_available_for_solar_panels     Block energy_type  total_gas_usage  \\\n",
      "0                            3207.0  812103-1        None              NaN   \n",
      "1                            1180.0  811800-3       Meter              NaN   \n",
      "2                            1163.0  811800-3       Meter              NaN   \n",
      "3                             846.0  812001-3        None              NaN   \n",
      "4                             440.0  812001-3        Both         21377.52   \n",
      "\n",
      "   total_usage  sq_ft_available_for_solar_panels_block_avg  \\\n",
      "0          NaN                                 3863.350649   \n",
      "1       159.84                                 1780.855721   \n",
      "2         0.00                                 1780.855721   \n",
      "3          NaN                                 2143.042254   \n",
      "4       445.56                                 2143.042254   \n",
      "\n",
      "   hours_of_sunlight_per_year_block_avg  \n",
      "0                           1350.885609  \n",
      "1                           1428.331797  \n",
      "2                           1428.331797  \n",
      "3                           1406.630573  \n",
      "4                           1406.630573  \n"
     ]
    }
   ],
   "source": [
    "# calculate block avgs for sq footage and sunlight hours\n",
    "block_averages = solar_copy.groupby('Block').agg({\n",
    "    'sq_ft_available_for_solar_panels': 'mean',\n",
    "    'hours_of_sunlight_per_year': 'mean'\n",
    "}).reset_index()\n",
    "\n",
    "solar_copy = solar_copy.merge(block_averages, on='Block', suffixes=('', '_block_avg'))\n",
    "\n",
    "print(solar_copy.head())"
   ]
  },
  {
   "cell_type": "code",
   "execution_count": 98,
   "metadata": {},
   "outputs": [
    {
     "name": "stdout",
     "output_type": "stream",
     "text": [
      "   house_id       lat      long  hours_of_sunlight_per_year  \\\n",
      "0  b1eb5eb2  0.940719  0.801404                      1404.0   \n",
      "1  a90ea0b3  0.953618  0.794167                      1488.0   \n",
      "2  049bf03c  0.953612  0.794371                      1504.0   \n",
      "3  b2dc9fbe  0.953394  0.794439                      1383.0   \n",
      "4  569aaf4b  0.953327  0.794585                      1337.0   \n",
      "\n",
      "   sq_ft_available_for_solar_panels     Block energy_type  total_gas_usage  \\\n",
      "0                            3207.0  812103-1        None              NaN   \n",
      "1                            1180.0  811800-3       Meter              NaN   \n",
      "2                            1163.0  811800-3       Meter              NaN   \n",
      "3                             846.0  812001-3        None              NaN   \n",
      "4                             440.0  812001-3        Both         21377.52   \n",
      "\n",
      "   total_usage  sq_ft_available_for_solar_panels_block_avg  \\\n",
      "0          NaN                                 3863.350649   \n",
      "1       159.84                                 1780.855721   \n",
      "2          NaN                                 1780.855721   \n",
      "3          NaN                                 2143.042254   \n",
      "4       445.56                                 2143.042254   \n",
      "\n",
      "   hours_of_sunlight_per_year_block_avg  total_energy_usage  geo_cluster  \n",
      "0                           1350.885609                 NaN          2.0  \n",
      "1                           1428.331797              159.84          9.0  \n",
      "2                           1428.331797                 NaN          9.0  \n",
      "3                           1406.630573                 NaN          9.0  \n",
      "4                           1406.630573            10911.54          9.0  \n"
     ]
    },
    {
     "name": "stderr",
     "output_type": "stream",
     "text": [
      "/var/folders/y9/nl6wrx1x5wz2_yp2gftwcpmr0000gn/T/ipykernel_29822/3574677285.py:2: FutureWarning: A value is trying to be set on a copy of a DataFrame or Series through chained assignment using an inplace method.\n",
      "The behavior will change in pandas 3.0. This inplace method will never work because the intermediate object on which we are setting values always behaves as a copy.\n",
      "\n",
      "For example, when doing 'df[col].method(value, inplace=True)', try using 'df.method({col: value}, inplace=True)' or df[col] = df[col].method(value) instead, to perform the operation inplace on the original object.\n",
      "\n",
      "\n",
      "  solar_copy['total_gas_usage'].replace(0, np.nan, inplace=True)\n",
      "/var/folders/y9/nl6wrx1x5wz2_yp2gftwcpmr0000gn/T/ipykernel_29822/3574677285.py:3: FutureWarning: A value is trying to be set on a copy of a DataFrame or Series through chained assignment using an inplace method.\n",
      "The behavior will change in pandas 3.0. This inplace method will never work because the intermediate object on which we are setting values always behaves as a copy.\n",
      "\n",
      "For example, when doing 'df[col].method(value, inplace=True)', try using 'df.method({col: value}, inplace=True)' or df[col] = df[col].method(value) instead, to perform the operation inplace on the original object.\n",
      "\n",
      "\n",
      "  solar_copy['total_usage'].replace(0, np.nan, inplace=True)\n"
     ]
    }
   ],
   "source": [
    "#treat 0 energy readings as NaN \n",
    "solar_copy['total_gas_usage'].replace(0, np.nan, inplace=True)\n",
    "solar_copy['total_usage'].replace(0, np.nan, inplace=True)\n",
    "\n",
    "print(solar_copy.head())"
   ]
  },
  {
   "cell_type": "code",
   "execution_count": 80,
   "metadata": {},
   "outputs": [
    {
     "name": "stdout",
     "output_type": "stream",
     "text": [
      "        lat      long  hours_of_sunlight_per_year\n",
      "0  0.940719  0.801404                      1404.0\n",
      "1  0.953618  0.794167                      1488.0\n",
      "2  0.953612  0.794371                      1504.0\n",
      "3  0.953394  0.794439                      1383.0\n",
      "4  0.953327  0.794585                      1337.0\n",
      "house_id                                          0\n",
      "lat                                               0\n",
      "long                                              0\n",
      "hours_of_sunlight_per_year                        0\n",
      "sq_ft_available_for_solar_panels               8825\n",
      "Block                                             0\n",
      "energy_type                                       0\n",
      "total_gas_usage                               12401\n",
      "total_usage                                   11753\n",
      "sq_ft_available_for_solar_panels_block_avg        5\n",
      "hours_of_sunlight_per_year_block_avg              5\n",
      "dtype: int64\n",
      "house_id                                         -1\n",
      "lat                                              -1\n",
      "long                                             -1\n",
      "hours_of_sunlight_per_year                       -1\n",
      "sq_ft_available_for_solar_panels              -8826\n",
      "Block                                            -1\n",
      "energy_type                                      -1\n",
      "total_gas_usage                              -12402\n",
      "total_usage                                  -11754\n",
      "sq_ft_available_for_solar_panels_block_avg       -6\n",
      "hours_of_sunlight_per_year_block_avg             -6\n",
      "dtype: int64\n"
     ]
    }
   ],
   "source": [
    "#impute hours_of_sunlight using lat and long\n",
    "\n",
    "from sklearn.impute import KNNImputer\n",
    "from sklearn.preprocessing import MinMaxScaler\n",
    "\n",
    "scaler = MinMaxScaler()\n",
    "solar_copy[['lat', 'long']] = scaler.fit_transform(solar_copy[['lat', 'long']])\n",
    "\n",
    "imputer = KNNImputer(n_neighbors=5)\n",
    "\n",
    "cols_for_knn = ['lat', 'long', 'hours_of_sunlight_per_year']\n",
    "solar_copy[cols_for_knn] = imputer.fit_transform(solar_copy[cols_for_knn])\n",
    "\n",
    "print(solar_copy[['lat', 'long', 'hours_of_sunlight_per_year']].head())\n",
    "print(solar_copy.isna().sum())\n"
   ]
  },
  {
   "cell_type": "code",
   "execution_count": 82,
   "metadata": {},
   "outputs": [
    {
     "name": "stdout",
     "output_type": "stream",
     "text": [
      "Rows with missing block averages for hours of sunlight per year:\n",
      "          Block  hours_of_sunlight_per_year_block_avg\n",
      "11989  812202-1                                   NaN\n",
      "11990  812202-1                                   NaN\n",
      "11993  812202-1                                   NaN\n",
      "11994  812202-1                                   NaN\n",
      "11995  812202-1                                   NaN\n",
      "Rows with missing block averages for roof space:\n",
      "          Block  sq_ft_available_for_solar_panels_block_avg\n",
      "11989  812202-1                                         NaN\n",
      "11990  812202-1                                         NaN\n",
      "11993  812202-1                                         NaN\n",
      "11994  812202-1                                         NaN\n",
      "11995  812202-1                                         NaN\n"
     ]
    }
   ],
   "source": [
    "missing_block_avg_hrs = solar_copy[solar_copy['hours_of_sunlight_per_year_block_avg'].isna()]\n",
    "\n",
    "print(\"Rows with missing block averages for hours of sunlight per year:\")\n",
    "print(missing_block_avg_hrs[['Block', 'hours_of_sunlight_per_year_block_avg']])\n",
    "\n",
    "missing_block_avg_ft = solar_copy[solar_copy['sq_ft_available_for_solar_panels_block_avg'].isna()]\n",
    "\n",
    "print(\"Rows with missing block averages for roof space:\")\n",
    "print(missing_block_avg_ft[['Block', 'sq_ft_available_for_solar_panels_block_avg']])\n",
    "\n",
    "#can maybe handle this if i have time, but dropping for now\n",
    "solar_copy = solar_copy.dropna(subset=['hours_of_sunlight_per_year_block_avg', 'sq_ft_available_for_solar_panels_block_avg'])\n",
    "\n"
   ]
  },
  {
   "cell_type": "code",
   "execution_count": 85,
   "metadata": {},
   "outputs": [
    {
     "name": "stdout",
     "output_type": "stream",
     "text": [
      "house_id                                          0\n",
      "lat                                               0\n",
      "long                                              0\n",
      "hours_of_sunlight_per_year                        0\n",
      "sq_ft_available_for_solar_panels               8820\n",
      "Block                                             0\n",
      "energy_type                                       0\n",
      "total_gas_usage                               12396\n",
      "total_usage                                   11748\n",
      "sq_ft_available_for_solar_panels_block_avg        0\n",
      "hours_of_sunlight_per_year_block_avg              0\n",
      "total_energy_usage                            11748\n",
      "dtype: int64\n",
      "   house_id       lat      long  hours_of_sunlight_per_year  \\\n",
      "0  b1eb5eb2  0.940719  0.801404                      1404.0   \n",
      "1  a90ea0b3  0.953618  0.794167                      1488.0   \n",
      "2  049bf03c  0.953612  0.794371                      1504.0   \n",
      "3  b2dc9fbe  0.953394  0.794439                      1383.0   \n",
      "4  569aaf4b  0.953327  0.794585                      1337.0   \n",
      "\n",
      "   sq_ft_available_for_solar_panels     Block energy_type  total_gas_usage  \\\n",
      "0                            3207.0  812103-1        None              NaN   \n",
      "1                            1180.0  811800-3       Meter              NaN   \n",
      "2                            1163.0  811800-3       Meter              NaN   \n",
      "3                             846.0  812001-3        None              NaN   \n",
      "4                             440.0  812001-3        Both         21377.52   \n",
      "\n",
      "   total_usage  sq_ft_available_for_solar_panels_block_avg  \\\n",
      "0          NaN                                 3863.350649   \n",
      "1       159.84                                 1780.855721   \n",
      "2          NaN                                 1780.855721   \n",
      "3          NaN                                 2143.042254   \n",
      "4       445.56                                 2143.042254   \n",
      "\n",
      "   hours_of_sunlight_per_year_block_avg  total_energy_usage  \n",
      "0                           1350.885609                 NaN  \n",
      "1                           1428.331797              159.84  \n",
      "2                           1428.331797                 NaN  \n",
      "3                           1406.630573                 NaN  \n",
      "4                           1406.630573            10911.54  \n"
     ]
    }
   ],
   "source": [
    "# regression when total energy usage is available\n",
    "# otherwise, use block averages\n",
    "\n",
    "from sklearn.linear_model import LinearRegression\n",
    "from sklearn.model_selection import train_test_split\n",
    "from sklearn.metrics import mean_squared_error\n",
    "\n",
    "\n",
    "solar_copy['total_energy_usage'] = solar_copy.apply(\n",
    "    lambda row: (row['total_gas_usage'] + row['total_usage']) / 2 if row['energy_type'] == 'Both' \n",
    "    else row['total_gas_usage'] if row['energy_type'] == 'Gas' \n",
    "    else row['total_usage'] if row['energy_type'] == 'Meter' \n",
    "    else np.nan, \n",
    "    axis = 1\n",
    ")\n",
    "\n",
    "print(solar_copy.isna().sum())\n",
    "print(solar_copy.head())\n"
   ]
  },
  {
   "cell_type": "code",
   "execution_count": 88,
   "metadata": {},
   "outputs": [
    {
     "name": "stdout",
     "output_type": "stream",
     "text": [
      "16748\n"
     ]
    }
   ],
   "source": [
    "print(len(solar_copy))\n",
    "#5k w total usage data"
   ]
  },
  {
   "cell_type": "code",
   "execution_count": 89,
   "metadata": {},
   "outputs": [
    {
     "name": "stdout",
     "output_type": "stream",
     "text": [
      "0\n"
     ]
    }
   ],
   "source": [
    "# how many of these houses have null sq footage\n",
    "houses_energy_null_sqft = solar_copy[\n",
    "    solar_copy['total_usage'].notna() & \n",
    "    solar_copy['sq_ft_available_for_solar_panels'].isna()\n",
    "]\n",
    "\n",
    "print(len(houses_energy_null_sqft))"
   ]
  },
  {
   "cell_type": "code",
   "execution_count": 91,
   "metadata": {},
   "outputs": [
    {
     "name": "stdout",
     "output_type": "stream",
     "text": [
      "   house_id  geo_cluster  sq_ft_available_for_solar_panels\n",
      "0  b1eb5eb2          2.0                            3207.0\n",
      "1  a90ea0b3          9.0                            1180.0\n",
      "2  049bf03c          9.0                            1163.0\n",
      "3  b2dc9fbe          9.0                             846.0\n",
      "4  569aaf4b          9.0                             440.0\n",
      "house_id                                          0\n",
      "lat                                               0\n",
      "long                                              0\n",
      "hours_of_sunlight_per_year                        0\n",
      "sq_ft_available_for_solar_panels                  0\n",
      "Block                                             0\n",
      "energy_type                                       0\n",
      "total_gas_usage                               12396\n",
      "total_usage                                   11748\n",
      "sq_ft_available_for_solar_panels_block_avg        0\n",
      "hours_of_sunlight_per_year_block_avg              0\n",
      "total_energy_usage                            11748\n",
      "geo_cluster                                       0\n",
      "dtype: int64\n"
     ]
    }
   ],
   "source": [
    "from sklearn.cluster import KMeans\n",
    "from sklearn.preprocessing import StandardScaler\n",
    "\n",
    "geo_data = solar_copy[['lat', 'long']]\n",
    "scaler = StandardScaler()\n",
    "geo_scaled = scaler.fit_transform(geo_data) \n",
    "\n",
    "kmeans = KMeans(n_clusters=10, random_state=42) \n",
    "clusters = kmeans.fit_predict(geo_scaled)\n",
    "solar_copy['geo_cluster'] = np.nan \n",
    "solar_copy.loc[geo_data.index, 'geo_cluster'] = clusters \n",
    "\n",
    "cluster_avg = solar_copy.groupby('geo_cluster')['sq_ft_available_for_solar_panels'].mean().to_dict()\n",
    "\n",
    "missing_sq_ft = solar_copy['sq_ft_available_for_solar_panels'].isna()\n",
    "solar_copy.loc[missing_sq_ft, 'sq_ft_available_for_solar_panels'] = solar_copy.loc[missing_sq_ft, 'geo_cluster'].map(cluster_avg)\n",
    "\n",
    "print(solar_copy[['house_id', 'geo_cluster', 'sq_ft_available_for_solar_panels']].head())\n",
    "print(solar_copy.isna().sum())"
   ]
  },
  {
   "cell_type": "code",
   "execution_count": 94,
   "metadata": {},
   "outputs": [
    {
     "data": {
      "image/png": "[encoded data removed]",
      "text/plain": [
       "<Figure size 1000x600 with 1 Axes>"
      ]
     },
     "metadata": {},
     "output_type": "display_data"
    }
   ],
   "source": [
    "# elbow method\n",
    "# sum of squared distances for a range of k values\n",
    "sum_of_squared_distances = []\n",
    "K = range(1, 20) \n",
    "for k in K:\n",
    "    km = KMeans(n_clusters=k, random_state=42)\n",
    "    km = km.fit(geo_scaled)\n",
    "    sum_of_squared_distances.append(km.inertia_)\n",
    "\n",
    "# find elbow\n",
    "plt.figure(figsize=(10, 6))\n",
    "plt.plot(K, sum_of_squared_distances, 'bx-')\n",
    "plt.xlabel('Number of Clusters (k)')\n",
    "plt.ylabel('Sum of Squared Distances')\n",
    "plt.title('Elbow Method For Optimal k')\n",
    "plt.grid(True)\n",
    "plt.show()\n",
    "\n",
    "# k = 4 is optimal"
   ]
  },
  {
   "cell_type": "code",
   "execution_count": 99,
   "metadata": {},
   "outputs": [
    {
     "name": "stdout",
     "output_type": "stream",
     "text": [
      "   house_id  geo_cluster  sq_ft_available_for_solar_panels\n",
      "0  b1eb5eb2            3                            3207.0\n",
      "1  a90ea0b3            3                            1180.0\n",
      "2  049bf03c            3                            1163.0\n",
      "3  b2dc9fbe            3                             846.0\n",
      "4  569aaf4b            3                             440.0\n",
      "house_id                                          0\n",
      "lat                                               0\n",
      "long                                              0\n",
      "hours_of_sunlight_per_year                        0\n",
      "sq_ft_available_for_solar_panels                  0\n",
      "Block                                             0\n",
      "energy_type                                       0\n",
      "total_gas_usage                               12396\n",
      "total_usage                                   11748\n",
      "sq_ft_available_for_solar_panels_block_avg        0\n",
      "hours_of_sunlight_per_year_block_avg              0\n",
      "total_energy_usage                            11748\n",
      "geo_cluster                                       0\n",
      "dtype: int64\n"
     ]
    }
   ],
   "source": [
    "geo_data = solar_copy[['lat', 'long']]\n",
    "scaler = StandardScaler()\n",
    "geo_scaled = scaler.fit_transform(geo_data) \n",
    "\n",
    "kmeans = KMeans(n_clusters=4, random_state=42) \n",
    "clusters = kmeans.fit_predict(geo_scaled)\n",
    "\n",
    "solar_copy['geo_cluster'] = clusters \n",
    "\n",
    "cluster_avg = solar_copy.groupby('geo_cluster')['sq_ft_available_for_solar_panels'].mean().to_dict()\n",
    "\n",
    "missing_sq_ft = solar_copy['sq_ft_available_for_solar_panels'].isna()\n",
    "solar_copy.loc[missing_sq_ft, 'sq_ft_available_for_solar_panels'] = solar_copy.loc[missing_sq_ft, 'geo_cluster'].map(cluster_avg)\n",
    "\n",
    "print(solar_copy[['house_id', 'geo_cluster', 'sq_ft_available_for_solar_panels']].head())\n",
    "print(solar_copy.isna().sum())"
   ]
  },
  {
   "cell_type": "code",
   "execution_count": 100,
   "metadata": {},
   "outputs": [],
   "source": [
    "solar_copy.to_csv('solar_imputed.csv', index=False)"
   ]
  },
  {
   "cell_type": "code",
   "execution_count": 101,
   "metadata": {},
   "outputs": [
    {
     "name": "stdout",
     "output_type": "stream",
     "text": [
      "          diff_sq_ft  diff_sunlight_hrs\n",
      "count   16748.000000       16748.000000\n",
      "mean     -157.205498           4.772271\n",
      "std      3464.669334          86.796673\n",
      "min     -4302.478261        -593.048077\n",
      "25%      -779.347368         -27.400683\n",
      "50%      -259.769231          13.735874\n",
      "75%       123.883401          55.691071\n",
      "max    175984.649351         250.325758\n"
     ]
    }
   ],
   "source": [
    "# compare block averages to imputed values\n",
    "solar_copy['diff_sq_ft'] = solar_copy['sq_ft_available_for_solar_panels'] - solar_copy['sq_ft_available_for_solar_panels_block_avg']\n",
    "\n",
    "solar_copy['diff_sunlight_hrs'] = solar_copy['hours_of_sunlight_per_year'] - solar_copy['hours_of_sunlight_per_year_block_avg']\n",
    "\n",
    "print(solar_copy[['diff_sq_ft', 'diff_sunlight_hrs']].describe())\n",
    "\n"
   ]
  },
  {
   "cell_type": "code",
   "execution_count": 103,
   "metadata": {},
   "outputs": [
    {
     "data": {
      "image/png": "[encoded data removed]",
      "text/plain": [
       "<Figure size 1200x600 with 2 Axes>"
      ]
     },
     "metadata": {},
     "output_type": "display_data"
    }
   ],
   "source": [
    "import matplotlib.pyplot as plt\n",
    "\n",
    "plt.figure(figsize=(12, 6))\n",
    "plt.subplot(1, 2, 1)\n",
    "plt.scatter(solar_copy['sq_ft_available_for_solar_panels'], solar_copy['sq_ft_available_for_solar_panels_block_avg'], alpha=0.5)\n",
    "plt.title('Comparison of Imputed sq_ft and Block Average')\n",
    "plt.xlabel('Imputed sq_ft')\n",
    "plt.ylabel('Block Average sq_ft')\n",
    "\n",
    "plt.subplot(1, 2, 2)\n",
    "plt.scatter(solar_copy['hours_of_sunlight_per_year'], solar_copy['hours_of_sunlight_per_year_block_avg'], alpha=0.5)\n",
    "plt.title('Comparison of Imputed Sunlight Hours and Block Average')\n",
    "plt.xlabel('Imputed Sunlight Hours')\n",
    "plt.ylabel('Block Average Sunlight Hours')\n",
    "\n",
    "plt.show()"
   ]
  }
 ],
 "metadata": {
  "kernelspec": {
   "display_name": "Python 3",
   "language": "python",
   "name": "python3"
  },
  "language_info": {
   "codemirror_mode": {
    "name": "ipython",
    "version": 3
   },
   "file_extension": ".py",
   "mimetype": "text/x-python",
   "name": "python",
   "nbconvert_exporter": "python",
   "pygments_lexer": "ipython3",
   "version": "3.12.2"
  }
 },
 "nbformat": 4,
 "nbformat_minor": 2
}
