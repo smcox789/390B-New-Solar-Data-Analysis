{
 "cells": [
  {
   "cell_type": "code",
   "execution_count": null,
   "metadata": {},
   "outputs": [],
   "source": [
    "# not sure if we need this one but putting in case :p"
   ]
  },
  {
   "cell_type": "code",
   "execution_count": 1,
   "metadata": {},
   "outputs": [],
   "source": [
    "import pandas as pd\n",
    "import numpy as np\n",
    "import matplotlib.pyplot as plt\n",
    "import seaborn as sns"
   ]
  },
  {
   "cell_type": "code",
   "execution_count": 10,
   "metadata": {},
   "outputs": [],
   "source": [
    "chunks = ['chunk0.csv', 'chunk1.csv', 'chunk2.csv', 'chunk3.csv', 'chunk4.csv', 'chunk5.csv', 'chunk6.csv']\n",
    "\n",
    "total_meter_data = pd.DataFrame()\n",
    "\n",
    "processed_house_ids = set()\n"
   ]
  },
  {
   "cell_type": "code",
   "execution_count": 11,
   "metadata": {},
   "outputs": [
    {
     "name": "stdout",
     "output_type": "stream",
     "text": [
      "5748\n"
     ]
    }
   ],
   "source": [
    "for chunk in chunks:\n",
    "    meter_data = pd.read_csv(chunk, usecols=range(500))\n",
    "    meter_data = meter_data[~meter_data['house_id'].isin(processed_house_ids)] #filter if duplicate\n",
    "\n",
    "    #aggregate for each house\n",
    "    meter_data['total_usage'] = meter_data.iloc[:, 2:].sum(axis=1, skipna=True)\n",
    "    meter_data = meter_data[['house_id', 'total_usage']]\n",
    "\n",
    "    processed_house_ids.update(meter_data['house_id'])\n",
    "\n",
    "    total_meter_data = pd.concat([total_meter_data, meter_data], ignore_index = True)\n",
    "\n",
    "total_meter_data = total_meter_data.dropna(subset=['total_usage'])\n",
    "print(len(total_meter_data))"
   ]
  },
  {
   "cell_type": "code",
   "execution_count": 12,
   "metadata": {},
   "outputs": [],
   "source": [
    "total_meter_data.to_csv('total_meter_data.csv', index=False)"
   ]
  }
 ],
 "metadata": {
  "kernelspec": {
   "display_name": "env",
   "language": "python",
   "name": "python3"
  },
  "language_info": {
   "codemirror_mode": {
    "name": "ipython",
    "version": 3
   },
   "file_extension": ".py",
   "mimetype": "text/x-python",
   "name": "python",
   "nbconvert_exporter": "python",
   "pygments_lexer": "ipython3",
   "version": "3.12.2"
  }
 },
 "nbformat": 4,
 "nbformat_minor": 2
}
