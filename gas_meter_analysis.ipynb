{
 "cells": [
  {
   "cell_type": "markdown",
   "metadata": {
    "vscode": {
     "languageId": "bat"
    }
   },
   "source": [
    "# Gas Meter Analysis"
   ]
  },
  {
   "cell_type": "markdown",
   "metadata": {},
   "source": [
    "### Import libraries, read files, and display gas data:"
   ]
  },
  {
   "cell_type": "code",
   "execution_count": 8,
   "metadata": {},
   "outputs": [],
   "source": [
    "import pandas as pd\n",
    "import numpy as np\n",
    "import matplotlib.pyplot as plt\n",
    "import seaborn as sns\n",
    "import math"
   ]
  },
  {
   "cell_type": "code",
   "execution_count": 4,
   "metadata": {},
   "outputs": [],
   "source": [
    "solar_data = pd.read_csv('solar_data.csv')\n",
    "census_data = pd.read_csv('census_data.csv')\n",
    "gas_data = pd.read_csv('gas_meter_data.csv')"
   ]
  },
  {
   "cell_type": "code",
   "execution_count": 5,
   "metadata": {},
   "outputs": [
    {
     "name": "stdout",
     "output_type": "stream",
     "text": [
      "HEAD    house_id  gas_meter_id  2020-01-01 00:00:00  2020-01-01 01:00:00  \\\n",
      "0  a90ea0b3      54363558                 0.00                 0.00   \n",
      "1  049bf03c      54459969                 0.00                 0.00   \n",
      "2  569aaf4b      40488619                 2.40                 2.64   \n",
      "3  5edb8c2b      94746136                 0.96                 1.68   \n",
      "4  0a4bda96      56809534                 0.00                 0.00   \n",
      "\n",
      "   2020-01-01 02:00:00  2020-01-01 03:00:00  2020-01-01 04:00:00  \\\n",
      "0                 0.00                  0.0                 0.00   \n",
      "1                 0.00                  0.0                 0.00   \n",
      "2                 2.40                  2.4                 2.16   \n",
      "3                 0.72                  0.0                 0.00   \n",
      "4                 0.00                  0.0                 0.00   \n",
      "\n",
      "   2020-01-01 05:00:00  2020-01-01 06:00:00  2020-01-01 07:00:00  ...  \\\n",
      "0                  0.0                 0.00                  0.0  ...   \n",
      "1                  0.0                 0.00                  0.0  ...   \n",
      "2                  2.4                 2.64                  2.4  ...   \n",
      "3                  0.0                 0.00                  0.0  ...   \n",
      "4                  0.0                 0.00                  0.0  ...   \n",
      "\n",
      "   2020-12-31 14:00:00  2020-12-31 15:00:00  2020-12-31 16:00:00  \\\n",
      "0                 0.00                 0.00                 0.00   \n",
      "1                 0.00                 0.00                 0.00   \n",
      "2                 2.40                 2.16                 2.40   \n",
      "3                 1.68                 0.72                 1.68   \n",
      "4                 0.00                 0.00                 0.00   \n",
      "\n",
      "   2020-12-31 17:00:00  2020-12-31 18:00:00  2020-12-31 19:00:00  \\\n",
      "0                 0.00                 0.00                 0.00   \n",
      "1                 0.00                 0.00                 0.00   \n",
      "2                 1.44                 1.68                 1.68   \n",
      "3                 0.72                 0.24                 1.20   \n",
      "4                 0.00                 0.00                 0.00   \n",
      "\n",
      "   2020-12-31 20:00:00  2020-12-31 21:00:00  2020-12-31 22:00:00  \\\n",
      "0                 0.00                 0.00                 0.00   \n",
      "1                 0.00                 0.00                 0.00   \n",
      "2                 1.44                 1.68                 1.68   \n",
      "3                 2.88                 1.92                 0.72   \n",
      "4                 0.00                 0.00                 0.00   \n",
      "\n",
      "   2020-12-31 23:00:00  \n",
      "0                 0.00  \n",
      "1                 0.00  \n",
      "2                 1.68  \n",
      "3                 0.96  \n",
      "4                 0.00  \n",
      "\n",
      "[5 rows x 8786 columns]\n"
     ]
    }
   ],
   "source": [
    "print('HEAD', gas_data.head())"
   ]
  },
  {
   "cell_type": "code",
   "execution_count": 6,
   "metadata": {},
   "outputs": [
    {
     "name": "stdout",
     "output_type": "stream",
     "text": [
      "<class 'pandas.core.frame.DataFrame'>\n",
      "RangeIndex: 5747 entries, 0 to 5746\n",
      "Columns: 8786 entries, house_id to 2020-12-31 23:00:00\n",
      "dtypes: float64(8784), int64(1), object(1)\n",
      "memory usage: 385.2+ MB\n",
      "INFO None\n"
     ]
    }
   ],
   "source": [
    "print('INFO', gas_data.info())"
   ]
  },
  {
   "cell_type": "code",
   "execution_count": 7,
   "metadata": {},
   "outputs": [
    {
     "name": "stdout",
     "output_type": "stream",
     "text": [
      "DESC        gas_meter_id  2020-01-01 00:00:00  2020-01-01 01:00:00  \\\n",
      "count  5.747000e+03          5684.000000          5684.000000   \n",
      "mean   5.716064e+07             2.419740             2.436228   \n",
      "std    2.055965e+07             7.283293             7.739692   \n",
      "min    2.029568e+07             0.000000             0.000000   \n",
      "25%    4.111716e+07             0.000000             0.000000   \n",
      "50%    4.976126e+07             0.960000             0.960000   \n",
      "75%    5.636438e+07             2.880000             2.880000   \n",
      "max    1.004940e+08           192.000000           216.000000   \n",
      "\n",
      "       2020-01-01 02:00:00  2020-01-01 03:00:00  2020-01-01 04:00:00  \\\n",
      "count          5684.000000          5684.000000          5684.000000   \n",
      "mean              2.302020             2.133589             2.083089   \n",
      "std               7.580132             6.957681             7.098353   \n",
      "min               0.000000             0.000000             0.000000   \n",
      "25%               0.000000             0.000000             0.000000   \n",
      "50%               0.720000             0.480000             0.240000   \n",
      "75%               2.880000             2.640000             2.640000   \n",
      "max             228.000000           180.000000           216.000000   \n",
      "\n",
      "       2020-01-01 05:00:00  2020-01-01 06:00:00  2020-01-01 07:00:00  \\\n",
      "count          5684.000000          5684.000000          5684.000000   \n",
      "mean              2.035630             2.104539             2.148410   \n",
      "std               6.851974             7.134177             7.068115   \n",
      "min               0.000000             0.000000             0.000000   \n",
      "25%               0.000000             0.000000             0.000000   \n",
      "50%               0.240000             0.240000             0.480000   \n",
      "75%               2.640000             2.640000             2.640000   \n",
      "max             192.000000           204.000000           204.000000   \n",
      "\n",
      "       2020-01-01 08:00:00  ...  2020-12-31 14:00:00  2020-12-31 15:00:00  \\\n",
      "count          5684.000000  ...          5684.000000          5684.000000   \n",
      "mean              2.275799  ...             3.078093             3.086960   \n",
      "std               7.145679  ...             7.805125             8.354867   \n",
      "min               0.000000  ...             0.000000             0.000000   \n",
      "25%               0.000000  ...             0.000000             0.000000   \n",
      "50%               0.720000  ...             1.680000             1.680000   \n",
      "75%               2.880000  ...             3.840000             3.840000   \n",
      "max             204.000000  ...           204.000000           264.000000   \n",
      "\n",
      "       2020-12-31 16:00:00  2020-12-31 17:00:00  2020-12-31 18:00:00  \\\n",
      "count          5684.000000          5684.000000          5684.000000   \n",
      "mean              2.858297             2.632949             2.648086   \n",
      "std               7.444989             7.537609             7.507368   \n",
      "min               0.000000             0.000000             0.000000   \n",
      "25%               0.000000             0.000000             0.000000   \n",
      "50%               1.440000             1.200000             1.200000   \n",
      "75%               3.600000             3.120000             3.120000   \n",
      "max             192.000000           204.000000           228.000000   \n",
      "\n",
      "       2020-12-31 19:00:00  2020-12-31 20:00:00  2020-12-31 21:00:00  \\\n",
      "count          5684.000000          5684.000000          5684.000000   \n",
      "mean              2.682836             2.718726             2.805095   \n",
      "std               7.536263             7.923895             8.549331   \n",
      "min               0.000000             0.000000             0.000000   \n",
      "25%               0.000000             0.000000             0.000000   \n",
      "50%               1.440000             1.440000             1.440000   \n",
      "75%               3.360000             3.360000             3.360000   \n",
      "max             204.000000           194.400000           280.800000   \n",
      "\n",
      "       2020-12-31 22:00:00  2020-12-31 23:00:00  \n",
      "count          5684.000000          5684.000000  \n",
      "mean              2.772182             2.589648  \n",
      "std               7.942985             7.260750  \n",
      "min               0.000000             0.000000  \n",
      "25%               0.000000             0.000000  \n",
      "50%               1.440000             1.200000  \n",
      "75%               3.360000             3.180000  \n",
      "max             192.000000           204.000000  \n",
      "\n",
      "[8 rows x 8785 columns]\n"
     ]
    }
   ],
   "source": [
    "print('DESC', gas_data.describe())"
   ]
  },
  {
   "cell_type": "markdown",
   "metadata": {},
   "source": [
    "#### some caption whatever"
   ]
  },
  {
   "cell_type": "markdown",
   "metadata": {},
   "source": [
    "### Pre-processing:"
   ]
  },
  {
   "cell_type": "code",
   "execution_count": null,
   "metadata": {},
   "outputs": [],
   "source": [
    "# drop id columns\n",
    "# revert to datetime, just hour of day (average measurements across all days for same hour)\n",
    "# replace outliers?\n",
    "# fill NaN vals"
   ]
  },
  {
   "cell_type": "code",
   "execution_count": null,
   "metadata": {},
   "outputs": [],
   "source": [
    "# find out if gas meter id attribute is not null in solar_data. if not, note down house id. these house ids are using gas\n",
    "\n",
    "gas_house_ids = []\n",
    "\n",
    "\n",
    "for solar_row in range(len(solar_data.index)):\n",
    "       if math.isnan(solar_data['gas_meter_id'].loc[solar_row]):\n",
    "               continue\n",
    "       else:\n",
    "            gas_house_ids.append(solar_data['house_id'].loc[solar_row])  \n",
    "\n",
    "\n",
    "print(gas_house_ids)\n",
    "\n",
    "# care about these houses - from these, select good candidates for solar\n",
    "# next: aggregate gas meter readings to use when comparing with what solar can generate, to see if switching to solar is good idea"
   ]
  },
  {
   "cell_type": "markdown",
   "metadata": {},
   "source": [
    "### Time Series:"
   ]
  }
 ],
 "metadata": {
  "kernelspec": {
   "display_name": "Python 3",
   "language": "python",
   "name": "python3"
  },
  "language_info": {
   "codemirror_mode": {
    "name": "ipython",
    "version": 3
   },
   "file_extension": ".py",
   "mimetype": "text/x-python",
   "name": "python",
   "nbconvert_exporter": "python",
   "pygments_lexer": "ipython3",
   "version": "3.12.2"
  }
 },
 "nbformat": 4,
 "nbformat_minor": 2
}
